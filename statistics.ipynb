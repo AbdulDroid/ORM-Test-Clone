{
 "cells": [
  {
   "cell_type": "code",
   "execution_count": 1,
   "metadata": {
    "collapsed": true
   },
   "outputs": [],
   "source": [
    "import matplotlib.pyplot as pp\n",
    "import pandas as pd\n",
    "import seaborn\n",
    "import itertools\n",
    "%matplotlib inline"
   ]
  },
  {
   "cell_type": "code",
   "execution_count": 3,
   "metadata": {
    "collapsed": false
   },
   "outputs": [
    {
     "name": "stdout",
     "output_type": "stream",
     "text": [
      "['simple read', 'simple write', 'simple update', 'simple delete', 'complex read', 'complex write', 'complex update', 'complex delete', 'balanced read', 'balanced write', 'balanced update', 'balanced delete']\n"
     ]
    }
   ],
   "source": [
    "level = ['simple','complex','balanced']\n",
    "action = ['read','write','update','delete']\n",
    "\n",
    "table_titles = [ x + \" \"+ y  for x in level for y in action]\n",
    "print table_titles"
   ]
  },
  {
   "cell_type": "code",
   "execution_count": 23,
   "metadata": {
    "collapsed": false
   },
   "outputs": [
    {
     "data": {
      "text/html": [
       "<div>\n",
       "<table border=\"1\" class=\"dataframe\">\n",
       "  <thead>\n",
       "    <tr style=\"text-align: right;\">\n",
       "      <th></th>\n",
       "      <th>name</th>\n",
       "      <th>simple read</th>\n",
       "      <th>simple write</th>\n",
       "      <th>simple update</th>\n",
       "      <th>simple delete</th>\n",
       "      <th>complex read</th>\n",
       "      <th>complex write</th>\n",
       "      <th>complex update</th>\n",
       "      <th>complex delete</th>\n",
       "      <th>balanced read</th>\n",
       "      <th>balanced write</th>\n",
       "      <th>balanced update</th>\n",
       "      <th>balanced delete</th>\n",
       "    </tr>\n",
       "  </thead>\n",
       "  <tbody>\n",
       "    <tr>\n",
       "      <th>0</th>\n",
       "      <td>ORMLite</td>\n",
       "      <td>151</td>\n",
       "      <td>666</td>\n",
       "      <td>122</td>\n",
       "      <td>105</td>\n",
       "      <td>445</td>\n",
       "      <td>3836</td>\n",
       "      <td>857</td>\n",
       "      <td>811</td>\n",
       "      <td>1563</td>\n",
       "      <td>3426</td>\n",
       "      <td>724</td>\n",
       "      <td>728</td>\n",
       "    </tr>\n",
       "    <tr>\n",
       "      <th>1</th>\n",
       "      <td>SugarORM</td>\n",
       "      <td>245</td>\n",
       "      <td>842</td>\n",
       "      <td>252</td>\n",
       "      <td>152</td>\n",
       "      <td>1402</td>\n",
       "      <td>4129</td>\n",
       "      <td>1467</td>\n",
       "      <td>1003</td>\n",
       "      <td>2204</td>\n",
       "      <td>4397</td>\n",
       "      <td>1702</td>\n",
       "      <td>1197</td>\n",
       "    </tr>\n",
       "    <tr>\n",
       "      <th>2</th>\n",
       "      <td>DBFlow</td>\n",
       "      <td>97</td>\n",
       "      <td>757</td>\n",
       "      <td>459</td>\n",
       "      <td>186</td>\n",
       "      <td>360</td>\n",
       "      <td>3534</td>\n",
       "      <td>3124</td>\n",
       "      <td>1044</td>\n",
       "      <td>1129</td>\n",
       "      <td>4653</td>\n",
       "      <td>5204</td>\n",
       "      <td>1268</td>\n",
       "    </tr>\n",
       "  </tbody>\n",
       "</table>\n",
       "</div>"
      ],
      "text/plain": [
       "       name  simple read  simple write  simple update  simple delete  \\\n",
       "0   ORMLite          151           666            122            105   \n",
       "1  SugarORM          245           842            252            152   \n",
       "2    DBFlow           97           757            459            186   \n",
       "\n",
       "   complex read  complex write  complex update  complex delete  balanced read  \\\n",
       "0           445           3836             857             811           1563   \n",
       "1          1402           4129            1467            1003           2204   \n",
       "2           360           3534            3124            1044           1129   \n",
       "\n",
       "   balanced write  balanced update  balanced delete  \n",
       "0            3426              724              728  \n",
       "1            4397             1702             1197  \n",
       "2            4653             5204             1268  "
      ]
     },
     "execution_count": 23,
     "metadata": {},
     "output_type": "execute_result"
    }
   ],
   "source": [
    "result_table = pd.read_csv('result.csv',names=['name']+table_titles)\n",
    "result_table.head()"
   ]
  },
  {
   "cell_type": "code",
   "execution_count": 89,
   "metadata": {
    "collapsed": false
   },
   "outputs": [
    {
     "data": {
      "text/plain": [
       "<matplotlib.text.Text at 0x115517c10>"
      ]
     },
     "execution_count": 89,
     "metadata": {},
     "output_type": "execute_result"
    },
    {
     "data": {
      "image/png": "[encoded data removed]",
      "text/plain": [
       "<matplotlib.figure.Figure at 0x11550b950>"
      ]
     },
     "metadata": {},
     "output_type": "display_data"
    }
   ],
   "source": [
    "colors=['b','r','g','y','w','']\n",
    "\n",
    "rows = len(result_table.index)\n",
    "\n",
    "pp.title('Simple ORM Benchmark')\n",
    "\n",
    "maximum = 0 \n",
    "\n",
    "for i in range(rows):\n",
    "    row = result_table.iloc[i]\n",
    "    data = [row[k] for k in table_titles[:4]]\n",
    "    pp.bar([len(result_table.index)*j+i for j in range(4)],data, label=row['name'], color=colors[i])\n",
    "\n",
    "pp.xticks([len(result_table.index)*j+1.2 for j in range(4)],[k for k in table_titles[:4]])\n",
    "\n",
    "pp.legend()\n",
    "pp.axis((0,rows*4,0,900))\n",
    "#pp.xlabel('libs')\n",
    "pp.ylabel('ms')"
   ]
  },
  {
   "cell_type": "code",
   "execution_count": null,
   "metadata": {
    "collapsed": false
   },
   "outputs": [],
   "source": []
  }
 ],
 "metadata": {
  "kernelspec": {
   "display_name": "Python 2",
   "language": "python",
   "name": "python2"
  },
  "language_info": {
   "codemirror_mode": {
    "name": "ipython",
    "version": 2
   },
   "file_extension": ".py",
   "mimetype": "text/x-python",
   "name": "python",
   "nbconvert_exporter": "python",
   "pygments_lexer": "ipython2",
   "version": "2.7.6"
  }
 },
 "nbformat": 4,
 "nbformat_minor": 1
}
